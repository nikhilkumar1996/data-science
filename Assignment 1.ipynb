{
 "cells": [
  {
   "cell_type": "markdown",
   "id": "a0817c15",
   "metadata": {},
   "source": [
    "\n",
    "\n",
    "**Exercise 1: Arithmetic Operations**\n",
    "Q: Take two numbers as input and calculate their sum, difference, product, quotient, and remainder using arithmetic operators.\n",
    "A:\n",
    "\n",
    "\n",
    "**Exercise 2: Comparison Operators**\n",
    "Q: Take two numbers as input and determine whether they are equal, not equal, greater than, and less than each other using comparison operators.\n",
    "A:\n",
    "\n",
    "\n",
    "**Exercise 3: Logical Operators**\n",
    "Q: Take two boolean values as input and print the result of their AND, OR, and NOT operations using logical operators.\n",
    "A:\n",
    "\n",
    "\n",
    "**Exercise 4: Bitwise Operations**\n",
    "Q: Take two integer numbers as input and perform bitwise AND, OR, XOR, and NOT operations on them.\n",
    "A:\n",
    "\n",
    "\n",
    "**Exercise 5: Precedence of Operators**\n",
    "Q: Take three numbers as input and create an expression using addition, subtraction, multiplication, and division. Print the result considering operator precedence.\n",
    "A:\n",
    "\n",
    "\n"
   ]
  },
  {
   "cell_type": "code",
   "execution_count": 1,
   "id": "b60b9642",
   "metadata": {},
   "outputs": [
    {
     "name": "stdout",
     "output_type": "stream",
     "text": [
      "Enter First Number20\n",
      "Enter Second Number10\n",
      "Sum of numbers = 30\n",
      "Difference of numbers = 10\n",
      "Multiplication of numbers = 200\n",
      "Quotient of numbers = 0\n",
      "Remainder of numbers = 2.0\n"
     ]
    }
   ],
   "source": [
    "#Arithmetic Operations\n",
    "\n",
    "#Taking two Input Numbers\n",
    "\n",
    "num1 = int(input(\"Enter First Number\"))\n",
    "num2 = int(input(\"Enter Second Number\"))\n",
    "\n",
    "#Operations stored in Variables\n",
    "\n",
    "addition = num1 + num2\n",
    "diff = num1 - num2\n",
    "multi = num1 * num2\n",
    "quo = num1 / num2\n",
    "rem = num1 % num2\n",
    "\n",
    "\n",
    "# print values\n",
    "\n",
    "print(\"Sum of numbers =\",addition)\n",
    "print(\"Difference of numbers =\",diff)\n",
    "print(\"Multiplication of numbers =\",multi)\n",
    "print(\"Quotient of numbers =\",quo)\n",
    "print(\"Remainder of numbers =\",rem)\n",
    "\n"
   ]
  },
  {
   "cell_type": "code",
   "execution_count": 10,
   "id": "ff058869",
   "metadata": {},
   "outputs": [
    {
     "name": "stdout",
     "output_type": "stream",
     "text": [
      "Enter First Numbertrue\n",
      "Enter Second Numberfalse\n",
      "True is equal to True\n"
     ]
    }
   ],
   "source": [
    "# Comparison Operators\n",
    "    \n",
    "#Taking two Input Numbers\n",
    "\n",
    "num1 = int(input(\"Enter First Number\"))\n",
    "num2 = int(input(\"Enter Second Number\"))\n",
    "\n",
    "if num1 == num2:\n",
    "        print(\"{} is equal to {}\".format(num1,num2))\n",
    "else:\n",
    "    print(\"Numbers are not equal\")\n",
    "    if num1>num2:\n",
    "        print(\"{} is greater than {}\".format(num1,num2))\n",
    "    if num1<num2:\n",
    "        print(\"{} is smaller than {}\".format(num1,num2))\n",
    "\n"
   ]
  },
  {
   "cell_type": "code",
   "execution_count": 22,
   "id": "851805db",
   "metadata": {},
   "outputs": [
    {
     "name": "stdout",
     "output_type": "stream",
     "text": [
      "Enter First boolean valuetrue\n",
      "Enter Second boolean valuefalse\n",
      "Using AND operator =  false\n",
      "Using OR operator =  true\n",
      "Using NOT operator =  False\n"
     ]
    }
   ],
   "source": [
    "# Logical Operators\n",
    "\n",
    "#Taking two Input Numbers\n",
    "\n",
    "num1 = input(\"Enter First boolean value\")\n",
    "num2 = input(\"Enter Second boolean value\")\n",
    "\n",
    "res1 = num1 and num2\n",
    "print(\"Using AND operator = \",res1)\n",
    "\n",
    "res2 = num1 or num2\n",
    "print(\"Using OR operator = \",res2)\n",
    "\n",
    "res3 = not(num1)\n",
    "print(\"Using NOT operator = \", res3)\n"
   ]
  },
  {
   "cell_type": "code",
   "execution_count": 21,
   "id": "a31e20c5",
   "metadata": {},
   "outputs": [
    {
     "name": "stdout",
     "output_type": "stream",
     "text": [
      "Enter First Number30\n",
      "Enter Second Number60\n",
      "Using AND operator =  False\n",
      "Using OR operator =  True\n",
      "Using NOT operator =  False\n"
     ]
    }
   ],
   "source": [
    "# Bitwise Operators\n",
    "\n",
    "#Taking two Input Numbers\n",
    "\n",
    "num1 = int(input(\"Enter First Number\"))\n",
    "num2 = int(input(\"Enter Second Number\"))\n",
    "\n",
    "res1 = (num1<num2) and (num2<50)\n",
    "print(\"Using AND operator = \",res1)\n",
    "\n",
    "res2 = (num1<num2) or (num2<50)\n",
    "print(\"Using OR operator = \",res2)\n",
    "\n",
    "res3 = not(num1<num2)\n",
    "print(\"Using NOT operator = \", res3)"
   ]
  },
  {
   "cell_type": "code",
   "execution_count": 24,
   "id": "a5503cfd",
   "metadata": {},
   "outputs": [
    {
     "name": "stdout",
     "output_type": "stream",
     "text": [
      "Enter First Number =20\n",
      "Enter Second Number =30\n",
      "Enter Third Number =10\n",
      "Result of the expression: 485.0\n"
     ]
    }
   ],
   "source": [
    "# Precedence of Operators\n",
    "\n",
    "#Taking two Input Numbers\n",
    "\n",
    "num1 = int(input(\"Enter First Number =\"))\n",
    "num2 = int(input(\"Enter Second Number =\"))\n",
    "num3 = int(input(\"Enter Third Number =\"))\n",
    "\n",
    "result = (num1 + num2) * num3 - num2 / 2\n",
    "\n",
    "print(f\"Result of the expression: {result}\")"
   ]
  },
  {
   "cell_type": "markdown",
   "id": "2a395a25",
   "metadata": {},
   "source": [
    "\n",
    "\n",
    "**Exercise 6: Mixed Operators**\n",
    "Q: Take two numbers as input and calculate the result of the expression `(a + b) * (a - b) / (a ** b)` using arithmetic operators.\n",
    "\n",
    "\n",
    "**Exercise 7: Complex Comparison**\n",
    "Q: Take three numbers as input and determine if the first number is strictly between the second and third numbers (exclusive), using comparison operators.\n",
    "\n",
    "\n",
    "**Exercise 8: Convert Seconds**\n",
    "Q: Take the number of seconds as input and convert it into hours, minutes, and remaining seconds using arithmetic operators.\n",
    "\n",
    "\n",
    "**Exercise 9: Swap Variables**\n",
    "Q: Take two numbers as input and swap their values without using a temporary variable, using arithmetic operators.\n",
    "\n",
    "\n",
    "**Exercise 10: Investment Growth**\n",
    "Q: Take the principal amount, interest rate, and number of years as input. Calculate the final amount using the formula `A = P * (1 + r/n) ** (nt)`, where `n` is the number of times interest is compounded per year and `t` is the number of years.\n",
    "A:\n",
    "\n"
   ]
  },
  {
   "cell_type": "code",
   "execution_count": 26,
   "id": "d55ae31f",
   "metadata": {},
   "outputs": [
    {
     "name": "stdout",
     "output_type": "stream",
     "text": [
      "Enter the value of a: 20\n",
      "Enter the value of b: 30.4\n",
      "Result of the expression: -1.4728279172273008e-37\n"
     ]
    }
   ],
   "source": [
    "# Excercise 6\n",
    "\n",
    "# Take two numbers as input\n",
    "a = float(input(\"Enter the value of a: \"))\n",
    "b = float(input(\"Enter the value of b: \"))\n",
    "\n",
    "# Calculate the result of the expression\n",
    "result = (a + b) * (a - b) / (a ** b)\n",
    "\n",
    "# Print the result\n",
    "print(f\"Result of the expression: {result}\")"
   ]
  },
  {
   "cell_type": "code",
   "execution_count": 29,
   "id": "cc9b70b1",
   "metadata": {},
   "outputs": [
    {
     "name": "stdout",
     "output_type": "stream",
     "text": [
      "Enter the first number =30\n",
      "Enter the second number =20\n",
      "Enter the third number =40\n",
      "30.0 is between 20.0 and 40.0\n"
     ]
    }
   ],
   "source": [
    "# Excercise 7\n",
    "\n",
    "# Take three numbers as input\n",
    "num1 = float(input(\"Enter the first number =\"))\n",
    "num2 = float(input(\"Enter the second number =\"))\n",
    "num3 = float(input(\"Enter the third number =\"))\n",
    "\n",
    "# Print the result\n",
    "if num2 < num1 < num3:\n",
    "    print(f\"{num1} is between {num2} and {num3}\")\n",
    "else:\n",
    "    print(f\"{num1} is not between {num2} and {num3}\")"
   ]
  },
  {
   "cell_type": "code",
   "execution_count": 34,
   "id": "3a1400ab",
   "metadata": {},
   "outputs": [
    {
     "name": "stdout",
     "output_type": "stream",
     "text": [
      "Enter the number of seconds50000\n",
      "50000 seconds is equivalent to 13 hours, 53 minutes, and 20 seconds.\n"
     ]
    }
   ],
   "source": [
    "# Excercise 8\n",
    "\n",
    "# Take the number of seconds as input\n",
    "total_seconds = int(input(\"Enter the number of seconds\"))\n",
    "\n",
    "# Calculate hours, minutes, and remaining seconds\n",
    "hours = total_seconds // 3600\n",
    "rem_sec = total_seconds % 3600\n",
    "mints = rem_sec // 60\n",
    "sec = rem_sec % 60\n",
    "\n",
    "# Print the result\n",
    "print(f\"{total_seconds} seconds is equivalent to {hours} hours, {mints} minutes, and {sec} seconds.\")\n"
   ]
  },
  {
   "cell_type": "code",
   "execution_count": 35,
   "id": "0df27eda",
   "metadata": {},
   "outputs": [
    {
     "name": "stdout",
     "output_type": "stream",
     "text": [
      "Enter the first number=30\n",
      "Enter the second number=20\n",
      "After swapping, num1 = 20, num2 = 30\n"
     ]
    }
   ],
   "source": [
    "#Excerice 9\n",
    "# Take two numbers as input\n",
    "num1 = int(input(\"Enter the first number=\"))\n",
    "num2 = int(input(\"Enter the second number=\"))\n",
    "\n",
    "# Swap the values without using a temporary variable\n",
    "num1 = num1 + num2\n",
    "num2 = num1 - num2\n",
    "num1 = num1 - num2\n",
    "\n",
    "# Print the swapped values\n",
    "print(f\"After swapping, num1 = {num1}, num2 = {num2}\")"
   ]
  },
  {
   "cell_type": "code",
   "execution_count": 36,
   "id": "57211250",
   "metadata": {},
   "outputs": [
    {
     "name": "stdout",
     "output_type": "stream",
     "text": [
      "Enter the principal amount: 4000\n",
      "Enter the annual interest rate (as a decimal): 15.5\n",
      "Enter the number of years: 4\n",
      "Enter the number of times interest is compounded per year: 10\n",
      "The final amount after 4.0 years is: 7.305790405961238e+19\n"
     ]
    }
   ],
   "source": [
    "#Excerice 10\n",
    "# Take input for principal amount, interest rate, number of years, and compounding details\n",
    "principal = float(input(\"Enter the principal amount: \"))\n",
    "interest_rate = float(input(\"Enter the annual interest rate (as a decimal): \"))\n",
    "years = float(input(\"Enter the number of years: \"))\n",
    "compounds_per_year = float(input(\"Enter the number of times interest is compounded per year: \"))\n",
    "\n",
    "# Calculate the final amount using the compound interest formula\n",
    "amount = principal * (1 + interest_rate / compounds_per_year) ** (compounds_per_year * years)\n",
    "\n",
    "# Print the result\n",
    "print(f\"The final amount after {years} years is: {amount}\")\n"
   ]
  },
  {
   "cell_type": "markdown",
   "id": "e6c449a8",
   "metadata": {},
   "source": [
    "\n",
    "\n",
    "**Exercise 11: Temperature Converter**\n",
    "Q: Take the temperature in Celsius as input and convert it to Kelvin and Fahrenheit using appropriate operators.\n",
    "A:\n",
    "\n",
    "\n",
    "**Exercise 12: Speed Calculator**\n",
    "Q: Take the distance (in kilometers) and time (in hours) as input. Calculate the speed in kilometers per hour using arithmetic operators.\n",
    "A:\n",
    "\n",
    "\n",
    "**Exercise 13: Triangle Area Calculator**\n",
    "Q: Take the base and height of a triangle as input. Calculate and print its area using arithmetic operators.\n",
    "A:\n",
    "\n",
    "\n",
    "**Exercise 14: Volume of a Sphere**\n",
    "Q: Take the radius of a sphere as input. Calculate and print its volume using arithmetic operators.\n",
    "A:\n",
    "\n",
    "**Exercise 15: Time Conversion**\n",
    "Q: Take a time duration in seconds as input. Convert and print it in the format of hours, minutes, and seconds using arithmetic operators.\n",
    "A:\n",
    "\n",
    "\n"
   ]
  },
  {
   "cell_type": "code",
   "execution_count": 37,
   "id": "5cb313d7",
   "metadata": {},
   "outputs": [
    {
     "name": "stdout",
     "output_type": "stream",
     "text": [
      "Enter the temperature in Celsius: 40.5\n",
      "40.5 degrees Celsius is equal to 313.65 Kelvin and 104.9 Fahrenheit.\n"
     ]
    }
   ],
   "source": [
    "#Excerice 11\n",
    "# Take input for temperature in Celsius\n",
    "celsius = float(input(\"Enter the temperature in Celsius: \"))\n",
    "\n",
    "# Convert Celsius to Kelvin\n",
    "kelvin = celsius + 273.15\n",
    "\n",
    "# Convert Celsius to Fahrenheit\n",
    "fahrenheit = (celsius * 9/5) + 32\n",
    "\n",
    "# Print the results\n",
    "print(f\"{celsius} degrees Celsius is equal to {kelvin} Kelvin and {fahrenheit} Fahrenheit.\")"
   ]
  },
  {
   "cell_type": "code",
   "execution_count": 38,
   "id": "cb5ffc9a",
   "metadata": {},
   "outputs": [
    {
     "name": "stdout",
     "output_type": "stream",
     "text": [
      "Enter the distance in kilometers: 40\n",
      "Enter the time in hours: 3\n",
      "The speed is: 13.333333333333334 kilometers per hour.\n"
     ]
    }
   ],
   "source": [
    "#Excerice 12\n",
    "# Take input for distance and time\n",
    "distance = float(input(\"Enter the distance in kilometers: \"))\n",
    "time = float(input(\"Enter the time in hours: \"))\n",
    "\n",
    "# Calculate the speed in kilometers per hour\n",
    "speed = distance / time\n",
    "\n",
    "# Print the result\n",
    "print(f\"The speed is: {speed} kilometers per hour.\")"
   ]
  },
  {
   "cell_type": "code",
   "execution_count": 39,
   "id": "2f4ece32",
   "metadata": {},
   "outputs": [
    {
     "name": "stdout",
     "output_type": "stream",
     "text": [
      "Enter the base of the triangle: 15.7\n",
      "Enter the height of the triangle: 44\n",
      "The area of the triangle is: 345.4\n"
     ]
    }
   ],
   "source": [
    "# Excerice 13\n",
    "# Take input for base and height of the triangle\n",
    "base = float(input(\"Enter the base of the triangle: \"))\n",
    "height = float(input(\"Enter the height of the triangle: \"))\n",
    "\n",
    "# Calculate the area of the triangle\n",
    "area = 0.5 * base * height\n",
    "\n",
    "# Print the result\n",
    "print(f\"The area of the triangle is: {area}\")\n"
   ]
  },
  {
   "cell_type": "code",
   "execution_count": 40,
   "id": "3c7d6371",
   "metadata": {},
   "outputs": [
    {
     "name": "stdout",
     "output_type": "stream",
     "text": [
      "Enter the radius of the sphere: 50\n",
      "The volume of the sphere is: 523598.33333333326\n"
     ]
    }
   ],
   "source": [
    "# Excerice 14\n",
    "# Take input for the radius of the sphere\n",
    "radius = float(input(\"Enter the radius of the sphere: \"))\n",
    "\n",
    "# Calculate the volume of the sphere\n",
    "volume = (4/3) * 3.14159 * radius**3\n",
    "\n",
    "# Print the result\n",
    "print(f\"The volume of the sphere is: {volume}\")\n"
   ]
  },
  {
   "cell_type": "code",
   "execution_count": 41,
   "id": "fb00a054",
   "metadata": {},
   "outputs": [
    {
     "name": "stdout",
     "output_type": "stream",
     "text": [
      "Enter the time duration in seconds: 500000\n",
      "500000 seconds is equivalent to 138 hours, 53 minutes, and 20 seconds.\n"
     ]
    }
   ],
   "source": [
    "# Excerice 15\n",
    "# Take input for time duration in seconds\n",
    "total_seconds = int(input(\"Enter the time duration in seconds: \"))\n",
    "\n",
    "# Calculate hours, minutes, and remaining seconds\n",
    "hours = total_seconds // 3600\n",
    "remaining_seconds = total_seconds % 3600\n",
    "minutes = remaining_seconds // 60\n",
    "seconds = remaining_seconds % 60\n",
    "\n",
    "# Print the result\n",
    "print(f\"{total_seconds} seconds is equivalent to {hours} hours, {minutes} minutes, and {seconds} seconds.\")"
   ]
  },
  {
   "cell_type": "code",
   "execution_count": null,
   "id": "7ec3bb78",
   "metadata": {},
   "outputs": [],
   "source": []
  }
 ],
 "metadata": {
  "kernelspec": {
   "display_name": "Python 3 (ipykernel)",
   "language": "python",
   "name": "python3"
  },
  "language_info": {
   "codemirror_mode": {
    "name": "ipython",
    "version": 3
   },
   "file_extension": ".py",
   "mimetype": "text/x-python",
   "name": "python",
   "nbconvert_exporter": "python",
   "pygments_lexer": "ipython3",
   "version": "3.11.5"
  }
 },
 "nbformat": 4,
 "nbformat_minor": 5
}
