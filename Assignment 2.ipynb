{
 "cells": [
  {
   "cell_type": "markdown",
   "id": "6a71dd07",
   "metadata": {},
   "source": [
    "\n",
    "\n",
    "**Exercise 1: Number Comparison**\n",
    "Q: Write a program that compares two numbers entered by the user and prints which one is greater.\n",
    "\n",
    "\n",
    "\n",
    "**Exercise 2: Even or Odd Number**\n",
    "Q: Write a program that takes a number as input and prints whether it's even or odd.\n",
    "\n",
    "\n",
    "\n",
    "**Exercise 3: Positive or Negative Number**\n",
    "Q: Write a program that takes a number as input and prints whether it's positive, negative, or zero.\n",
    "\n",
    "\n",
    "\n",
    "**Exercise 4: Password Checker**\n",
    "Q: Write a program that asks the user to enter a password. If the password is \"python123\", print \"Access granted.\" Otherwise, print \"Access denied.\"\n",
    "\n",
    "\n",
    "**Exercise 5: Age Checker**\n",
    "Q: Write a program that asks the user to enter their age. If the age is greater than or equal to 18, print \"You are an adult.\" Otherwise, print \"You are not an adult.\"\n",
    "\n",
    "\n"
   ]
  },
  {
   "cell_type": "code",
   "execution_count": 2,
   "id": "ca12efb4",
   "metadata": {},
   "outputs": [
    {
     "name": "stdout",
     "output_type": "stream",
     "text": [
      "Enter the first number: 44\n",
      "Enter the second number: 55\n",
      "55.0 is greater than 44.0\n"
     ]
    }
   ],
   "source": [
    "#Q1\n",
    "# Get input from the user\n",
    "num1 = float(input(\"Enter the first number: \"))\n",
    "num2 = float(input(\"Enter the second number: \"))\n",
    "\n",
    "if num1 > num2:\n",
    "    print(f\"{num1} is greater than {num2}\")\n",
    "elif num1 < num2:\n",
    "    print(f\"{num2} is greater than {num1}\")\n",
    "else:\n",
    "    print(\"Both numbers are equal\")\n"
   ]
  },
  {
   "cell_type": "code",
   "execution_count": 1,
   "id": "1963b343",
   "metadata": {},
   "outputs": [
    {
     "name": "stdout",
     "output_type": "stream",
     "text": [
      "Enter a number: 12\n",
      "12 is an even number.\n"
     ]
    }
   ],
   "source": [
    "#Q2\n",
    "# Get input from the user\n",
    "number = float(input(\"Enter a number: \"))\n",
    "\n",
    "if number % 2 == 0:\n",
    "    print(f\"{number} is an even number.\")\n",
    "else:\n",
    "    print(f\"{number} is an odd number.\")\n"
   ]
  },
  {
   "cell_type": "code",
   "execution_count": 3,
   "id": "8e36a8ec",
   "metadata": {},
   "outputs": [
    {
     "name": "stdout",
     "output_type": "stream",
     "text": [
      "Enter a number: 56\n",
      "56 is a positive number.\n"
     ]
    }
   ],
   "source": [
    "#Q3\n",
    "# Get input from the user\n",
    "number = int(input(\"Enter a number: \"))\n",
    "\n",
    "if number > 0:\n",
    "    print(f\"{number} is a positive number.\")\n",
    "elif number < 0:\n",
    "    print(f\"{number} is a negative number.\")\n",
    "else:\n",
    "    print(\"The number is zero.\")"
   ]
  },
  {
   "cell_type": "code",
   "execution_count": null,
   "id": "16ecdfc3",
   "metadata": {},
   "outputs": [],
   "source": [
    "#Q4\n",
    "# Get password input from the user\n",
    "password = input(\"Enter the password: \")\n",
    "\n",
    "if password == \"python123\":\n",
    "    print(\"Access granted.\")\n",
    "else:\n",
    "    print(\"Access denied.\")"
   ]
  },
  {
   "cell_type": "code",
   "execution_count": null,
   "id": "78235b63",
   "metadata": {},
   "outputs": [],
   "source": [
    "#Q5\n",
    "# Get age input from the user\n",
    "age = int(input(\"Enter your age: \"))\n",
    "\n",
    "if age >= 18:\n",
    "    print(\"You are an adult.\")\n",
    "else:\n",
    "    print(\"You are not an adult.\")"
   ]
  },
  {
   "cell_type": "code",
   "execution_count": null,
   "id": "5f764ce7",
   "metadata": {},
   "outputs": [],
   "source": []
  },
  {
   "cell_type": "markdown",
   "id": "1193fab1",
   "metadata": {},
   "source": [
    "\n",
    "\n",
    "**Exercise 6: Voting Eligibility**\n",
    "Q: Write a program that asks the user for their age. If they are 18 or older, print \"You are eligible to vote.\" Otherwise, print \"You are not eligible to vote.\"\n",
    "\n",
    "\n",
    "\n",
    "**Exercise 7: Temperature Conversion**\n",
    "Q: Write a program that asks the user for a temperature in Celsius. If the temperature is above 30 degrees Celsius, print \"It's a hot day.\" Otherwise, print \"It's not a hot day.\"\n",
    "\n",
    "\n",
    "**Exercise 8: Positive or Negative Number (Improved)**\n",
    "Q: Write a program that takes a number as input and prints whether it's positive, negative, or zero. Use only one `if` statement.\n",
    "\n",
    "\n",
    "\n",
    "**Exercise 9: Grade Classification (Improved)**\n",
    "Q: Write a program that takes a student's score as input and prints their grade based on the following criteria:\n",
    "- Score >= 90: \"A\"\n",
    "- Score >= 80: \"B\"\n",
    "- Score >= 70: \"C\"\n",
    "- Score >= 60: \"D\"\n",
    "- Otherwise: \"F\"\n",
    "\n",
    "\n",
    "\n",
    "**Exercise 10: Number Comparison (Improved)**\n",
    "Q: Write a program that compares two numbers entered by the user and prints which one is greater. Use only one `if` statement.\n",
    "\n",
    "\n",
    "\n"
   ]
  },
  {
   "cell_type": "markdown",
   "id": "beea58f7",
   "metadata": {},
   "source": [
    "\n",
    "\n",
    "**Exercise 11: Odd or Even Number (Improved)**\n",
    "Q: Write a program that takes a number as input and prints whether it's odd or even. Use only one `if` statement.\n",
    "\n",
    "\n",
    "\n",
    "**Exercise 12: Positive, Negative, or Zero (Improved)**\n",
    "Q: Write a program that takes a number as input and prints whether it's positive, negative, or zero. Use only one `if` statement.\n",
    "\n",
    "\n",
    "\n",
    "**Exercise 13: Age Group Classification**\n",
    "Q: Write a program that asks the user to enter their age. If they are under 13, print \"Child.\" If they are between 13 and 19, print \"Teenager.\" Otherwise, print \"Adult.\"\n",
    "\n",
    "\n",
    "\n",
    "**Exercise 14: Password Strength Checker**\n",
    "Q: Write a program that asks the user to enter a password. If the password is less than 8 characters long, print \"Weak.\" If it's 8 or more characters long, print \"Strong.\"\n",
    "\n",
    "\n",
    "\n",
    "**Exercise 15: Age Verification**\n",
    "Q: Write a program that asks the user for their age. If the age is 21 or older, print \"You are allowed to enter.\" Otherwise, print \"Access denied.\"\n",
    "\n",
    "\n"
   ]
  },
  {
   "cell_type": "markdown",
   "id": "eb5c07d9",
   "metadata": {},
   "source": [
    "\n",
    "\n",
    "**Exercise 16: Number Comparison (Improved)**\n",
    "Q: Write a program that takes two numbers as input and prints whether they are equal or not. Use only one `if` statement.\n",
    "\n",
    "\n",
    "\n",
    "**Exercise 17: Grading System**\n",
    "Q: Write a program that takes a student's score as input and prints their grade using the following grading scale:\n",
    "- 90-100: \"A\"\n",
    "- 80-89: \"B\"\n",
    "- 70-79: \"C\"\n",
    "- 60-69: \"D\"\n",
    "- Below 60: \"F\"\n",
    "\n",
    "\n",
    "\n",
    "**Exercise 18: Discount Calculator**\n",
    "Q: Write a program that calculates and displays the final price of a product after applying a 10% discount. Ask the user for the original price.\n",
    "\n",
    "\n",
    "\n",
    "**Exercise 19: BMI Calculator**\n",
    "Q: Write a program that calculates and displays the Body Mass Index (BMI) of a person based on their weight (in kilograms) and height (in meters). Use the following formula: BMI = weight / (height^2). Ask the user for their weight and height.\n",
    "\n",
    "\n",
    "\n",
    "**Exercise 20: Password Verification (Improved)**\n",
    "Q: Write a program that asks the user to enter a password. If the password is \"password123\", print \"Access granted.\" Otherwise, print \"Access denied.\"\n",
    "\n",
    "\n"
   ]
  },
  {
   "cell_type": "markdown",
   "id": "ec130d9a",
   "metadata": {},
   "source": [
    "\n",
    "\n",
    "**Exercise 21: Ticket Price Calculator**\n",
    "Q: Write a program that calculates and displays the ticket price for a movie based on the user's age. \n",
    "If the user is 12 years old or younger, the ticket price is $5.\n",
    "If the user is between 13 and 18 years old (inclusive), the ticket price is $8. For adults (age 19 and above), the ticket price is $12.\n",
    "\n",
    "\n",
    "\n",
    "**Exercise 22: Discount Coupon**\n",
    "Q: Write a program that asks the user to enter the total purchase amount. If the purchase amount is greater than or equal to $50, apply a 10% discount and display the final amount to be paid. Otherwise, display the original amount.\n",
    "\n",
    "\n",
    "\n",
    "**Exercise 23: Traffic Light Simulator**\n",
    "Q: Write a program that simulates a traffic light. Ask the user to enter a color (either \"red,\" \"yellow,\" or \"green\"). If the color is \"red,\" print \"Stop.\" If the color is \"yellow,\" print \"Slow down.\" If the color is \"green,\" print \"Go.\"\n",
    "\n",
    "\n",
    "\n",
    "**Exercise 24: Simple Calculator**\n",
    "Q: Write a program that takes two numbers and an operator (+, -, *, /) as input and performs the corresponding operation on the numbers. Display the result. For example, if the user enters 5, *, and 3, the program should print \"5 * 3 = 15.\"\n",
    "\n",
    "\n",
    "\n",
    "**Exercise 25: Exam Result**\n",
    "Q: Write a program that asks the user to enter their exam score as a percentage (0-100). Based on the score, print one of the following messages: \"Excellent\" (90-100), \"Good\" (80-89), \"Satisfactory\" (70-79), \"Needs Improvement\" (0-69).\n",
    "\n",
    "\n",
    "\n"
   ]
  },
  {
   "cell_type": "code",
   "execution_count": 6,
   "id": "acbd88fd",
   "metadata": {},
   "outputs": [
    {
     "name": "stdout",
     "output_type": "stream",
     "text": [
      "Enter your age: 24\n",
      "You are eligible to vote.\n"
     ]
    }
   ],
   "source": [
    "#Q6\n",
    "# Get age input from the user\n",
    "age = int(input(\"Enter your age: \"))\n",
    "\n",
    "if age >= 18:\n",
    "    print(\"You are eligible to vote.\")\n",
    "else:\n",
    "    print(\"You are not eligible to vote.\")\n"
   ]
  },
  {
   "cell_type": "code",
   "execution_count": 7,
   "id": "db1ce45f",
   "metadata": {},
   "outputs": [
    {
     "name": "stdout",
     "output_type": "stream",
     "text": [
      "Enter the temperature in Celsius: 10\n",
      "It's not a hot day.\n"
     ]
    }
   ],
   "source": [
    "#Q7\n",
    "# Get temperature input from the user\n",
    "temperature_celsius = float(input(\"Enter the temperature in Celsius: \"))\n",
    "\n",
    "if temperature_celsius > 30:\n",
    "    print(\"It's a hot day.\")\n",
    "else:\n",
    "    print(\"It's not a hot day.\")"
   ]
  },
  {
   "cell_type": "code",
   "execution_count": 8,
   "id": "06817241",
   "metadata": {},
   "outputs": [
    {
     "name": "stdout",
     "output_type": "stream",
     "text": [
      "Enter a number: 35\n",
      "35.0 is a positive number.\n"
     ]
    }
   ],
   "source": [
    "#Q8\n",
    "# Get input from the user\n",
    "number = float(input(\"Enter a number: \"))\n",
    "\n",
    "if number > 0:\n",
    "    print(f\"{number} is a positive number.\")\n",
    "elif number < 0:\n",
    "    print(f\"{number} is a negative number.\")\n",
    "else:\n",
    "    print(\"The number is zero.\")\n"
   ]
  },
  {
   "cell_type": "code",
   "execution_count": 9,
   "id": "e83b3008",
   "metadata": {},
   "outputs": [
    {
     "name": "stdout",
     "output_type": "stream",
     "text": [
      "Enter the student's score: 87\n",
      "The student's grade is: B\n"
     ]
    }
   ],
   "source": [
    "#Q9\n",
    "# Get score input from the user\n",
    "score = float(input(\"Enter the student's score: \"))\n",
    "\n",
    "if score >= 90:\n",
    "    grade = \"A\"\n",
    "elif score >= 80:\n",
    "    grade = \"B\"\n",
    "elif score >= 70:\n",
    "    grade = \"C\"\n",
    "elif score >= 60:\n",
    "    grade = \"D\"\n",
    "else:\n",
    "    grade = \"F\"\n",
    "\n",
    "print(f\"The student's grade is: {grade}\")"
   ]
  },
  {
   "cell_type": "code",
   "execution_count": 10,
   "id": "15299c62",
   "metadata": {},
   "outputs": [
    {
     "name": "stdout",
     "output_type": "stream",
     "text": [
      "Enter the first number: 22.3\n",
      "Enter the second number: 12.5\n",
      "22.3 is greater than 12.5\n"
     ]
    }
   ],
   "source": [
    "#Q10\n",
    "# Get input from the user\n",
    "num1 = float(input(\"Enter the first number: \"))\n",
    "num2 = float(input(\"Enter the second number: \"))\n",
    "\n",
    "if num1 > num2:\n",
    "    print(f\"{num1} is greater than {num2}\")\n",
    "elif num1 < num2:\n",
    "    print(f\"{num2} is greater than {num1}\")\n",
    "else:\n",
    "    print(\"Both numbers are equal\")"
   ]
  },
  {
   "cell_type": "code",
   "execution_count": 11,
   "id": "d38ed8dd",
   "metadata": {},
   "outputs": [
    {
     "name": "stdout",
     "output_type": "stream",
     "text": [
      "Enter a number: 33\n",
      "33 is an odd number.\n"
     ]
    }
   ],
   "source": [
    "#Q11\n",
    "# Get input from the user\n",
    "number = int(input(\"Enter a number: \"))\n",
    "\n",
    "if number % 2 == 0:\n",
    "    print(f\"{number} is an even number.\")\n",
    "else:\n",
    "    print(f\"{number} is an odd number.\")"
   ]
  },
  {
   "cell_type": "code",
   "execution_count": 12,
   "id": "b87b9649",
   "metadata": {},
   "outputs": [
    {
     "name": "stdout",
     "output_type": "stream",
     "text": [
      "Enter a number: -64\n",
      "-64.0 is a negative number.\n"
     ]
    }
   ],
   "source": [
    "#Q12\n",
    "# Get input from the user\n",
    "number = float(input(\"Enter a number: \"))\n",
    "\n",
    "if number > 0:\n",
    "    print(f\"{number} is a positive number.\")\n",
    "elif number < 0:\n",
    "    print(f\"{number} is a negative number.\")\n",
    "else:\n",
    "    print(\"The number is zero.\")"
   ]
  },
  {
   "cell_type": "code",
   "execution_count": 13,
   "id": "a75e0111",
   "metadata": {},
   "outputs": [
    {
     "name": "stdout",
     "output_type": "stream",
     "text": [
      "Enter your age: 25\n",
      "Adult.\n"
     ]
    }
   ],
   "source": [
    "#Q13\n",
    "# Get age input from the user\n",
    "age = int(input(\"Enter your age: \"))\n",
    "\n",
    "if age < 13:\n",
    "    print(\"Child.\")\n",
    "elif 13 <= age <= 19:\n",
    "    print(\"Teenager.\")\n",
    "else:\n",
    "    print(\"Adult.\")"
   ]
  },
  {
   "cell_type": "code",
   "execution_count": 14,
   "id": "66fd62f6",
   "metadata": {},
   "outputs": [
    {
     "name": "stdout",
     "output_type": "stream",
     "text": [
      "Enter a password: nikhilkumar\n",
      "Strong.\n"
     ]
    }
   ],
   "source": [
    "#Q14\n",
    "# Get password input from the user\n",
    "password = input(\"Enter a password: \")\n",
    "\n",
    "if len(password) < 8:\n",
    "    print(\"Weak.\")\n",
    "else:\n",
    "    print(\"Strong.\")"
   ]
  },
  {
   "cell_type": "code",
   "execution_count": 15,
   "id": "546fa494",
   "metadata": {},
   "outputs": [
    {
     "name": "stdout",
     "output_type": "stream",
     "text": [
      "Enter your age: 28\n",
      "You are allowed to enter.\n"
     ]
    }
   ],
   "source": [
    "#Q15\n",
    "# Get age input from the user\n",
    "age = int(input(\"Enter your age: \"))\n",
    "\n",
    "if age >= 21:\n",
    "    print(\"You are allowed to enter.\")\n",
    "else:\n",
    "    print(\"Access denied.\")"
   ]
  },
  {
   "cell_type": "code",
   "execution_count": 16,
   "id": "d11ee687",
   "metadata": {},
   "outputs": [
    {
     "name": "stdout",
     "output_type": "stream",
     "text": [
      "Enter the first number: 12\n",
      "Enter the second number: 21\n",
      "The numbers are not equal.\n"
     ]
    }
   ],
   "source": [
    "#Q16\n",
    "# Get input for two numbers from the user\n",
    "num1 = float(input(\"Enter the first number: \"))\n",
    "num2 = float(input(\"Enter the second number: \"))\n",
    "\n",
    "if num1 == num2:\n",
    "    print(\"The numbers are equal.\")\n",
    "else:\n",
    "    print(\"The numbers are not equal.\")"
   ]
  },
  {
   "cell_type": "code",
   "execution_count": 17,
   "id": "1335b5b1",
   "metadata": {},
   "outputs": [
    {
     "name": "stdout",
     "output_type": "stream",
     "text": [
      "Enter the student's score: 92\n",
      "The student's grade is: A\n"
     ]
    }
   ],
   "source": [
    "#Q17\n",
    "# Get score input from the user\n",
    "score = float(input(\"Enter the student's score: \"))\n",
    "\n",
    "if 90 <= score <= 100:\n",
    "    grade = \"A\"\n",
    "elif 80 <= score <= 89:\n",
    "    grade = \"B\"\n",
    "elif 70 <= score <= 79:\n",
    "    grade = \"C\"\n",
    "elif 60 <= score <= 69:\n",
    "    grade = \"D\"\n",
    "else:\n",
    "    grade = \"F\"\n",
    "\n",
    "# Print the grade\n",
    "print(f\"The student's grade is: {grade}\")"
   ]
  },
  {
   "cell_type": "code",
   "execution_count": 18,
   "id": "b5cc3e27",
   "metadata": {},
   "outputs": [
    {
     "name": "stdout",
     "output_type": "stream",
     "text": [
      "Enter the original price of the product: 663\n",
      "The final price after a 10% discount is: $596.7\n"
     ]
    }
   ],
   "source": [
    "#Q18\n",
    "# Get the original price from the user\n",
    "original_price = float(input(\"Enter the original price of the product: \"))\n",
    "\n",
    "discount_percentage = 10\n",
    "discount_amount = (discount_percentage / 100) * original_price\n",
    "final_price = original_price - discount_amount\n",
    "\n",
    "print(f\"The final price after a {discount_percentage}% discount is: ${final_price}\")"
   ]
  },
  {
   "cell_type": "code",
   "execution_count": 19,
   "id": "7ec7ef12",
   "metadata": {},
   "outputs": [
    {
     "name": "stdout",
     "output_type": "stream",
     "text": [
      "Enter your weight in kilograms: 74\n",
      "Enter your height in meters: 173\n",
      "Your Body Mass Index (BMI) is: 0.0024725182932941294\n"
     ]
    }
   ],
   "source": [
    "#Q19\n",
    "# Get user input for weight and height\n",
    "weight_kg = float(input(\"Enter your weight in kilograms: \"))\n",
    "height_m = float(input(\"Enter your height in meters: \"))\n",
    "\n",
    "bmi = weight_kg / (height_m ** 2)\n",
    "\n",
    "print(f\"Your Body Mass Index (BMI) is: {bmi}\")"
   ]
  },
  {
   "cell_type": "code",
   "execution_count": 20,
   "id": "8d46e8ea",
   "metadata": {},
   "outputs": [
    {
     "name": "stdout",
     "output_type": "stream",
     "text": [
      "Enter the password: password123\n",
      "Access granted.\n"
     ]
    }
   ],
   "source": [
    "#Q20\n",
    "# Get password input from the user\n",
    "password = input(\"Enter the password: \")\n",
    "\n",
    "if password == \"password123\":\n",
    "    print(\"Access granted.\")\n",
    "else:\n",
    "    print(\"Access denied.\")"
   ]
  },
  {
   "cell_type": "code",
   "execution_count": 21,
   "id": "f9322e03",
   "metadata": {},
   "outputs": [
    {
     "name": "stdout",
     "output_type": "stream",
     "text": [
      "Enter your age: 25\n",
      "The ticket price is: $12.00\n"
     ]
    }
   ],
   "source": [
    "#Q21\n",
    "# Get user input for age\n",
    "age = int(input(\"Enter your age: \"))\n",
    "\n",
    "if age <= 12:\n",
    "    ticket_price = 5.0\n",
    "elif 13 <= age <= 18:\n",
    "    ticket_price = 8.0\n",
    "else:\n",
    "    ticket_price = 12.0\n",
    "\n",
    "print(f\"The ticket price is: ${ticket_price}\")"
   ]
  },
  {
   "cell_type": "code",
   "execution_count": 22,
   "id": "6a1353fc",
   "metadata": {},
   "outputs": [
    {
     "name": "stdout",
     "output_type": "stream",
     "text": [
      "Enter the total purchase amount1183\n",
      "Total amount: $1183.00\n",
      "Discount applied: 10%\n",
      "Final amount to be paid: $1064.70\n"
     ]
    }
   ],
   "source": [
    "#Q22\n",
    "# Get user input for the total purchase amount\n",
    "purchase_amount = float(input(\"Enter the total purchase amount\"))\n",
    "\n",
    "if purchase_amount >= 50:\n",
    "    discount_percentage = 10\n",
    "    discount_amount = (discount_percentage / 100) * purchase_amount\n",
    "    final_amount = purchase_amount - discount_amount\n",
    "\n",
    "    print(f\"Total amount: ${purchase_amount:.2f}\")\n",
    "    print(f\"Discount applied: {discount_percentage}%\")\n",
    "    print(f\"Final amount to be paid: ${final_amount:.2f}\")\n",
    "else:\n",
    "    print(f\"Total amount to be paid: ${purchase_amount:.2f}\")\n"
   ]
  },
  {
   "cell_type": "code",
   "execution_count": 23,
   "id": "22a628ce",
   "metadata": {},
   "outputs": [
    {
     "name": "stdout",
     "output_type": "stream",
     "text": [
      "Enter the traffic light color (red, yellow, or green): red\n",
      "Stop.\n"
     ]
    }
   ],
   "source": [
    "#Q23\n",
    "# Get user input for the traffic light color\n",
    "color = input(\"Enter the traffic light color (red, yellow, or green): \")\n",
    "\n",
    "if color == \"red\":\n",
    "    print(\"Stop.\")\n",
    "elif color == \"yellow\":\n",
    "    print(\"Slow down.\")\n",
    "elif color == \"green\":\n",
    "    print(\"Go.\")\n",
    "else:\n",
    "    print(\"Invalid color. Please enter 'red', 'yellow', or 'green'.\")"
   ]
  },
  {
   "cell_type": "code",
   "execution_count": 24,
   "id": "d37abed3",
   "metadata": {},
   "outputs": [
    {
     "name": "stdout",
     "output_type": "stream",
     "text": [
      "Enter the first number: 63\n",
      "Enter the operator (+, -, *, /): +\n",
      "Enter the second number: 54\n",
      "63.0 + 54.0 = 117.0\n"
     ]
    }
   ],
   "source": [
    "#Q24\n",
    "# Get user input for two numbers and an operator\n",
    "num1 = float(input(\"Enter the first number: \"))\n",
    "operator = input(\"Enter the operator (+, -, *, /): \")\n",
    "num2 = float(input(\"Enter the second number: \"))\n",
    "\n",
    "result = 0\n",
    "\n",
    "if operator == \"+\":\n",
    "    result = num1 + num2\n",
    "elif operator == \"-\":\n",
    "    result = num1 - num2\n",
    "elif operator == \"*\":\n",
    "    result = num1 * num2\n",
    "elif operator == \"/\":\n",
    "    if num2 != 0:\n",
    "        result = num1 / num2\n",
    "    else:\n",
    "        print(\"Error: Cannot divide by zero.\")\n",
    "        exit()\n",
    "\n",
    "print(f\"{num1} {operator} {num2} = {result}\")"
   ]
  },
  {
   "cell_type": "code",
   "execution_count": 25,
   "id": "4e756f56",
   "metadata": {},
   "outputs": [
    {
     "name": "stdout",
     "output_type": "stream",
     "text": [
      "Enter your exam score as a percentage (0-100): 67\n",
      "Needs Improvement\n"
     ]
    }
   ],
   "source": [
    "#Q25\n",
    "# Get user input for exam score as a percentage\n",
    "exam_score = float(input(\"Enter your exam score as a percentage (0-100): \"))\n",
    "\n",
    "if 90 <= exam_score <= 100:\n",
    "    print(\"Excellent\")\n",
    "elif 80 <= exam_score < 90:\n",
    "    print(\"Good\")\n",
    "elif 70 <= exam_score < 80:\n",
    "    print(\"Satisfactory\")\n",
    "elif 0 <= exam_score < 70:\n",
    "    print(\"Needs Improvement\")\n",
    "else:\n",
    "    print(\"Invalid score. Please enter a score between 0 and 100.\")\n"
   ]
  },
  {
   "cell_type": "code",
   "execution_count": null,
   "id": "d396da9d",
   "metadata": {},
   "outputs": [],
   "source": []
  }
 ],
 "metadata": {
  "kernelspec": {
   "display_name": "Python 3 (ipykernel)",
   "language": "python",
   "name": "python3"
  },
  "language_info": {
   "codemirror_mode": {
    "name": "ipython",
    "version": 3
   },
   "file_extension": ".py",
   "mimetype": "text/x-python",
   "name": "python",
   "nbconvert_exporter": "python",
   "pygments_lexer": "ipython3",
   "version": "3.11.5"
  }
 },
 "nbformat": 4,
 "nbformat_minor": 5
}
