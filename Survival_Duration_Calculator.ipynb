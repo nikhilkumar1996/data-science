{
 "cells": [
  {
   "cell_type": "code",
   "execution_count": null,
   "id": "5f37c280",
   "metadata": {
    "id": "5f37c280"
   },
   "outputs": [],
   "source": []
  },
  {
   "cell_type": "code",
   "execution_count": 2,
   "id": "97646b6d",
   "metadata": {
    "colab": {
     "base_uri": "https://localhost:8080/"
    },
    "executionInfo": {
     "elapsed": 8475,
     "status": "ok",
     "timestamp": 1702752767146,
     "user": {
      "displayName": "Daniel Jadi",
      "userId": "00419857403652203316"
     },
     "user_tz": -330
    },
    "id": "97646b6d",
    "outputId": "a39d7e02-f42d-4fd4-9d22-d7cffd3be5bc"
   },
   "outputs": [
    {
     "name": "stdout",
     "output_type": "stream",
     "text": [
      "Enter Your Age27\n",
      "enter the unit you want to cal age tom\n",
      "you lived for 324 months\n",
      "enter the unit you want to cal age tow\n",
      "you lived for 1296 weeks\n",
      "enter the unit you want to cal age tomon\n",
      "Invalid Unit\n",
      "enter the unit you want to cal age tosec\n",
      "Invalid Unit\n",
      "enter the unit you want to cal age tomin\n",
      "you lived for 14191200 minutes\n",
      "enter the unit you want to cal age toexit\n",
      "Exit!!!\n"
     ]
    }
   ],
   "source": [
    "def survival_cal(age):\n",
    "\n",
    "    months = age * 12\n",
    "    weeks = months * 4\n",
    "    days = age * 365\n",
    "    hours = days * 24\n",
    "    minutes = hours * 60\n",
    "    seconds = minutes * 60\n",
    "    \n",
    "    while True:\n",
    "        \n",
    "        unit = input(\"enter the unit you want to cal age to\")\n",
    "\n",
    "        if unit == \"months\" or unit == \"m\":\n",
    "            print(f\"you lived for {months} months\")\n",
    "        elif unit == \"weeks\" or unit == \"w\":\n",
    "            print(f\"you lived for {weeks} weeks\")\n",
    "        elif unit == \"days\" or unit == \"d\":\n",
    "            print(f\"you lived for {days} days\")\n",
    "        elif unit == \"hours\" or unit == \"h\":\n",
    "            print(f\"you lived for {hours} hours\")\n",
    "        elif unit == \"minutes\" or unit == \"min\":\n",
    "            print(f\"you lived for {minutes} minutes\")\n",
    "        elif unit == \"seconds\" or unit == \"s\":\n",
    "            print(f\"you lived for {seconds} seconds\")\n",
    "        elif unit == \"exit\":\n",
    "            print(f\"Exit!!!\")\n",
    "            break\n",
    "        else:\n",
    "            print(\"Invalid Unit\")\n",
    "\n",
    "\n",
    "if __name__ == \"__main__\":\n",
    "    cal_age = int(input(\"Enter Your Age\"))\n",
    "    survival_cal(cal_age)"
   ]
  },
  {
   "cell_type": "code",
   "execution_count": null,
   "id": "e20C1kmJ7H09",
   "metadata": {
    "id": "e20C1kmJ7H09"
   },
   "outputs": [],
   "source": []
  }
 ],
 "metadata": {
  "colab": {
   "provenance": []
  },
  "kernelspec": {
   "display_name": "Python 3 (ipykernel)",
   "language": "python",
   "name": "python3"
  },
  "language_info": {
   "codemirror_mode": {
    "name": "ipython",
    "version": 3
   },
   "file_extension": ".py",
   "mimetype": "text/x-python",
   "name": "python",
   "nbconvert_exporter": "python",
   "pygments_lexer": "ipython3",
   "version": "3.11.5"
  }
 },
 "nbformat": 4,
 "nbformat_minor": 5
}
