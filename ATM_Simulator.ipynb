{
 "cells": [
  {
   "cell_type": "code",
   "execution_count": null,
   "id": "6c33e5df",
   "metadata": {
    "id": "6c33e5df"
   },
   "outputs": [],
   "source": []
  },
  {
   "cell_type": "code",
   "execution_count": 2,
   "id": "bec37cee",
   "metadata": {
    "id": "bec37cee",
    "outputId": "5682da4c-1683-4786-9216-d3f8190142e5"
   },
   "outputs": [
    {
     "name": "stdout",
     "output_type": "stream",
     "text": [
      "Welcome to the ATM Simulator\n",
      "Please Enter Your Pin67456\n",
      "1.Cash Withdrawal\n",
      "2.Cash Deposit\n",
      "3.Check Balance\n",
      "4. Exit\n",
      "Choose your Options1\n",
      "Enter withdrawal amount2000\n",
      "Cash has been withdrawal ,your available balance is 8000\n",
      "1.Cash Withdrawal\n",
      "2.Cash Deposit\n",
      "3.Check Balance\n",
      "4. Exit\n",
      "Choose your Options2\n",
      "Enter deposit amt2000\n",
      "Cash has been deposited ,your available balance is 10000\n",
      "1.Cash Withdrawal\n",
      "2.Cash Deposit\n",
      "3.Check Balance\n",
      "4. Exit\n",
      "Choose your Options4\n",
      "Thank you, Visit Again!\n"
     ]
    }
   ],
   "source": [
    "def atm_machine(tot_amount):\n",
    "    print(\"Welcome to the ATM Simulator\")\n",
    "    pin = int(input(\"Please Enter Your Pin\"))\n",
    "    if len(str(pin)) != 5:\n",
    "        return \"Invalid Pin\"\n",
    "\n",
    "    while True:\n",
    "        print(\"1.Cash Withdrawal\"\n",
    "              \"\\n2.Cash Deposit\"\n",
    "              \"\\n3.Check Balance\"\n",
    "              \"\\n4. Exit\")\n",
    "\n",
    "        choice = int(input(\"Choose your Options\"))\n",
    "        if choice == 1:\n",
    "            withdrawal_amt = int(input(\"Enter withdrawal amount\"))\n",
    "            if withdrawal_amt < tot_amount:\n",
    "                tot_amount -= withdrawal_amt\n",
    "                print(f\"Cash has been withdrawal ,your available balance is {tot_amount}\")\n",
    "            else:\n",
    "                print(\"Insufficient Balance\")\n",
    "        elif choice == 2:\n",
    "            deposit_amt = int(input(\"Enter deposit amt\"))\n",
    "            tot_amount += deposit_amt\n",
    "            print(f\"Cash has been deposited ,your available balance is {tot_amount}\")\n",
    "        elif choice == 3:\n",
    "            print(f\"your available balance is {tot_amount}\")\n",
    "        elif choice == 4:\n",
    "            print(\"Thank you, Visit Again!\")\n",
    "            return\n",
    "        else:\n",
    "            print(\"Invalid choice , Try Again!\")\n",
    "\n",
    "\n",
    "if __name__ == \"__main__\":\n",
    "    amt = 10000\n",
    "    atm_machine(amt)\n"
   ]
  },
  {
   "cell_type": "code",
   "execution_count": null,
   "id": "ecfa1138",
   "metadata": {
    "id": "ecfa1138"
   },
   "outputs": [],
   "source": []
  },
  {
   "cell_type": "code",
   "execution_count": null,
   "id": "6af51367",
   "metadata": {},
   "outputs": [],
   "source": []
  },
  {
   "cell_type": "code",
   "execution_count": null,
   "id": "91864c50",
   "metadata": {},
   "outputs": [],
   "source": []
  },
  {
   "cell_type": "code",
   "execution_count": null,
   "id": "0cc948b7",
   "metadata": {},
   "outputs": [],
   "source": []
  }
 ],
 "metadata": {
  "colab": {
   "provenance": []
  },
  "kernelspec": {
   "display_name": "Python 3 (ipykernel)",
   "language": "python",
   "name": "python3"
  },
  "language_info": {
   "codemirror_mode": {
    "name": "ipython",
    "version": 3
   },
   "file_extension": ".py",
   "mimetype": "text/x-python",
   "name": "python",
   "nbconvert_exporter": "python",
   "pygments_lexer": "ipython3",
   "version": "3.11.5"
  }
 },
 "nbformat": 4,
 "nbformat_minor": 5
}
